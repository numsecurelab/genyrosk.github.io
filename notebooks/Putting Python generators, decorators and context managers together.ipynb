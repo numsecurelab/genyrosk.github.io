{
 "cells": [
  {
   "cell_type": "markdown",
   "metadata": {},
   "source": [
    "# Combining Python Context Managers and Decorators when writing a request limiter "
   ]
  },
  {
   "cell_type": "markdown",
   "metadata": {},
   "source": [
    "## A real problem I encountered"
   ]
  },
  {
   "cell_type": "markdown",
   "metadata": {},
   "source": [
    "While learning to use Python Context Managers, I encountered a neat use case for them. At the time I was writing a data pipeline that was heavily querying an API and I would often quickly reach the API quota limits and my script would abruptly quit. My initial solution was to catch the exception and implement a loop that would try again after a time delay. It was a quick and dirty solution with a lot of boilerplate code, but it worked as a first approach. Later I found myself in the same problem when querying a different API and I realised that a more structured approach was necessary. \n",
    "\n",
    "Some time later I found out the existence of the [ratelimiter]() package, and to my surprise: it also used context managers and the code looked very similar ! In addition, the package features a very neat usage of the decorator syntax and implements both a synchronous and asynchronous versions.  \n",
    "\n",
    "In this article we're going to go through the basics of the context manager functionality, and then see it in action in a rate limiter class. "
   ]
  },
  {
   "cell_type": "markdown",
   "metadata": {},
   "source": [
    "## The purpose of context managers \n",
    "\n",
    "The purpose of a context manager is to encapsulate a sequence of \"setup\" and \"teardown\" steps into a neat block of code. Any code that runs within that block runs within the context of a particular resource that is created in the process. In the background, a context manager implements this process for you. This process usually involves some sort of creation followed by deletion, an opening followed by closing (of a connection, for example), a building step followed by a breaking step (more metaphors are welcome).  \n",
    "\n",
    "Sounds confusing ? Don't worry, let's clear it up with some examples. "
   ]
  },
  {
   "cell_type": "markdown",
   "metadata": {},
   "source": [
    "### Opening a file \n",
    "\n",
    "To open a file in Python you would usually write the follwing: "
   ]
  },
  {
   "cell_type": "code",
   "execution_count": 1,
   "metadata": {},
   "outputs": [
    {
     "name": "stdout",
     "output_type": "stream",
     "text": [
      "Hello World\n",
      "\n"
     ]
    }
   ],
   "source": [
    "f = open('data.txt')\n",
    "text = f.read()\n",
    "print(text)\n",
    "f.close()"
   ]
  },
  {
   "cell_type": "markdown",
   "metadata": {},
   "source": [
    "Notice the `open` and `close` logic. \n",
    "\n",
    "This code is equivalent to the following context manager: "
   ]
  },
  {
   "cell_type": "code",
   "execution_count": 2,
   "metadata": {},
   "outputs": [
    {
     "name": "stdout",
     "output_type": "stream",
     "text": [
      "Hello World\n",
      "\n"
     ]
    }
   ],
   "source": [
    "with open('data.txt') as f:\n",
    "    ## inside the context manager block \n",
    "    text = f.read()\n",
    "    print(text)\n",
    "    \n",
    "## outside the context manager block "
   ]
  },
  {
   "cell_type": "markdown",
   "metadata": {},
   "source": [
    "With a context manmager, the user no longer has to explicitely specify the closing step: the context manager does it for you as soon as you start a new line outside the block. Neat. "
   ]
  },
  {
   "cell_type": "markdown",
   "metadata": {},
   "source": [
    "## Writing a context manager ... "
   ]
  },
  {
   "cell_type": "markdown",
   "metadata": {},
   "source": [
    "## ... as a class\n",
    "\n",
    "A context manager can be implemented with special class underscore methods, namely `__enter__` and `__exit__`. \n",
    "\n",
    "Let's implement the file reader context manager: "
   ]
  },
  {
   "cell_type": "code",
   "execution_count": 3,
   "metadata": {},
   "outputs": [],
   "source": [
    "class readfile:\n",
    "    \n",
    "    def __init__(self, file_name, method):\n",
    "        self.f = open(file_name, method)\n",
    "    \n",
    "    def __enter__(self):\n",
    "        # Code to acquire resource\n",
    "        print('>> __enter__')\n",
    "        return self.f\n",
    "        \n",
    "    def __exit__(self, *args): # __exit__ takes 3 extra arguments that we don't need to worry about\n",
    "        # Code to release resource\n",
    "        print('>> __exit__')\n",
    "        self.f.close()"
   ]
  },
  {
   "cell_type": "code",
   "execution_count": 4,
   "metadata": {},
   "outputs": [
    {
     "name": "stdout",
     "output_type": "stream",
     "text": [
      ">> __enter__\n",
      "Hello World\n",
      "\n",
      ">> __exit__\n"
     ]
    }
   ],
   "source": [
    "with readfile('data.txt', 'r') as f:\n",
    "    text = f.read()\n",
    "    print(text)"
   ]
  },
  {
   "cell_type": "markdown",
   "metadata": {},
   "source": [
    "Note how `self.f`, the resource object, is passed around the class and is ultimately surfaced by the `__enter__` method which allows the used to interact with the object inside the block of the context manager. "
   ]
  },
  {
   "cell_type": "markdown",
   "metadata": {},
   "source": [
    "### ...as a generator \n",
    "\n",
    "If you're familiar with Python generators and the logic you're writing is simple enough, you can implement a context manager with the generator syntax. "
   ]
  },
  {
   "cell_type": "code",
   "execution_count": 5,
   "metadata": {},
   "outputs": [],
   "source": [
    "from contextlib import contextmanager\n",
    "\n",
    "@contextmanager\n",
    "def readfile(file_name, method):\n",
    "    # Code to acquire resource\n",
    "    f = open(file_name, method)\n",
    "    try:\n",
    "        print('>> yield')\n",
    "        yield f\n",
    "    finally:\n",
    "        # Code to release resource\n",
    "        print('>> finally')\n",
    "        f.close()"
   ]
  },
  {
   "cell_type": "code",
   "execution_count": 6,
   "metadata": {},
   "outputs": [
    {
     "name": "stdout",
     "output_type": "stream",
     "text": [
      ">> yield\n",
      "Hello World\n",
      "\n",
      ">> finally\n"
     ]
    }
   ],
   "source": [
    "with readfile('data.txt', 'r') as f:\n",
    "    text = f.read()\n",
    "    print(text)"
   ]
  },
  {
   "cell_type": "markdown",
   "metadata": {},
   "source": [
    "This syntax looks much simpler by using the `contextmanager` class to decorate the generator and convert it into a context manager. In the  background this class implements the `__enter__` and `__exit__` methods for us so we don't have to worry about them. "
   ]
  },
  {
   "cell_type": "markdown",
   "metadata": {},
   "source": [
    "## The request limiter"
   ]
  },
  {
   "cell_type": "markdown",
   "metadata": {},
   "source": [
    "### A simulated API"
   ]
  },
  {
   "cell_type": "markdown",
   "metadata": {},
   "source": [
    "Let's simulate an API behaviour with the following generator, which normally returns a `200 OK` message when everything is ok, but will return an `403 Quota Exceeded` error message if a pre-defined quota limit has been exceeded. We will interface with the API generator using an intermediary `call_api` function to make things easier on the user side code. "
   ]
  },
  {
   "cell_type": "code",
   "execution_count": 7,
   "metadata": {},
   "outputs": [],
   "source": [
    "import time \n",
    "        \n",
    "def API(ping=0.15):\n",
    "    limit = 5\n",
    "    period = 1.0\n",
    "    calls = []\n",
    "    while True:\n",
    "        time.sleep(ping) # simulate response delay \n",
    "        now = time.time()\n",
    "        call_window = [t for t in calls if now - t < period]\n",
    "        if len(call_window) < limit:\n",
    "            calls = call_window + [now]\n",
    "            yield '200 OK'\n",
    "        else:\n",
    "            yield '403 Quota Exceeded'\n",
    "\n",
    "api = API()\n",
    "def call_api():\n",
    "    return next(api)"
   ]
  },
  {
   "cell_type": "markdown",
   "metadata": {},
   "source": [
    "Now if we simulate this API object with very rapid calls, we should get an error message back once we exceed the quota of 5 calls per second. "
   ]
  },
  {
   "cell_type": "code",
   "execution_count": 8,
   "metadata": {},
   "outputs": [
    {
     "name": "stdout",
     "output_type": "stream",
     "text": [
      "second [0.15] call [0]: 200 OK\n",
      "second [0.31] call [1]: 200 OK\n",
      "second [0.46] call [2]: 200 OK\n",
      "second [0.62] call [3]: 200 OK\n",
      "second [0.77] call [4]: 200 OK\n",
      "second [0.92] call [5]: 403 Quota Exceeded\n",
      "second [1.07] call [6]: 403 Quota Exceeded\n",
      "second [1.22] call [7]: 200 OK\n",
      "second [1.38] call [8]: 200 OK\n",
      "second [1.53] call [9]: 200 OK\n"
     ]
    }
   ],
   "source": [
    "start = time.time()\n",
    "for i in range(10):\n",
    "    result = call_api()\n",
    "    print(f'second [{time.time() - start:.2f}] call [{i}]: {result}')"
   ]
  },
  {
   "cell_type": "markdown",
   "metadata": {},
   "source": [
    "But if we introduce a long enough delay between the calls, the API will no longer respond with a `403` error message. "
   ]
  },
  {
   "cell_type": "code",
   "execution_count": 9,
   "metadata": {},
   "outputs": [
    {
     "name": "stdout",
     "output_type": "stream",
     "text": [
      "second [0.36] call [0]: 200 OK\n",
      "second [0.71] call [1]: 200 OK\n",
      "second [1.06] call [2]: 200 OK\n",
      "second [1.42] call [3]: 200 OK\n",
      "second [1.78] call [4]: 200 OK\n",
      "second [2.13] call [5]: 200 OK\n",
      "second [2.48] call [6]: 200 OK\n",
      "second [2.83] call [7]: 200 OK\n",
      "second [3.19] call [8]: 200 OK\n",
      "second [3.54] call [9]: 200 OK\n"
     ]
    }
   ],
   "source": [
    "start = time.time()\n",
    "for i in range(10):\n",
    "    time.sleep(0.2)\n",
    "    result = call_api()\n",
    "    print(f'second [{time.time() - start:.2f}] call [{i}]: {result}')"
   ]
  },
  {
   "cell_type": "markdown",
   "metadata": {},
   "source": [
    "However, this is far from ideal, since we're stuck introducing delays into our code. What we actually would like to do is to be able to call the API as soon as the quota window has passed. We need to keep track of the request times and throttle our own calls. \n",
    "\n"
   ]
  },
  {
   "cell_type": "markdown",
   "metadata": {},
   "source": [
    "### First attempt: function wrapper "
   ]
  },
  {
   "cell_type": "markdown",
   "metadata": {},
   "source": [
    "Let's start with a function wrapper. Say we need to call the API an arbitrary number of times. "
   ]
  },
  {
   "cell_type": "code",
   "execution_count": 10,
   "metadata": {},
   "outputs": [],
   "source": [
    "def request_limiter(n, max_calls, period=1.0):\n",
    "    results = []\n",
    "    calls = []\n",
    "    \n",
    "    # call the api n times\n",
    "    for _ in range(n):\n",
    "        if len(calls) >= max_calls:\n",
    "            sleeptime = period - calls[-1] + calls[0] \n",
    "            if sleeptime > 0:\n",
    "                time.sleep(sleeptime)\n",
    "\n",
    "        # API call \n",
    "        result = call_api()\n",
    "        results += [result]\n",
    "\n",
    "        # keep track of calls within the time window\n",
    "        now = time.time()\n",
    "        calls += [now]\n",
    "        calls = [t for t in calls if now - t < period] \n",
    "    \n",
    "    return results"
   ]
  },
  {
   "cell_type": "code",
   "execution_count": 11,
   "metadata": {},
   "outputs": [
    {
     "name": "stdout",
     "output_type": "stream",
     "text": [
      "call [0]: 200 OK\n",
      "call [1]: 200 OK\n",
      "call [2]: 200 OK\n",
      "call [3]: 200 OK\n",
      "call [4]: 403 Quota Exceeded\n",
      "call [5]: 200 OK\n",
      "call [6]: 200 OK\n",
      "call [7]: 200 OK\n",
      "call [8]: 200 OK\n",
      "call [9]: 200 OK\n"
     ]
    }
   ],
   "source": [
    "results = request_limiter(10, 5)\n",
    "for i, result in enumerate(results):\n",
    "    print(f'call [{i}]: {result}')"
   ]
  },
  {
   "cell_type": "markdown",
   "metadata": {},
   "source": [
    "### Improved version: as a decorator "
   ]
  },
  {
   "cell_type": "markdown",
   "metadata": {},
   "source": [
    "The main limitation of the simple functional implementation above is that we have to provide to it the number of times that we want to query the API in order to be able to then keep a memory of the state inside the function. What if we don't know how many times we need to call the API ? What if these calls come from different places ? \n",
    "\n",
    "We need to keep track of the calls that we're making dynamically, i.e. the state needs to live outside of the function making the calls: a stateful decorator. \n",
    "\n",
    "Although stateful decorators can be implemented using the function itself as the [object state](https://realpython.com/primer-on-python-decorators/#stateful-decorators), it's much intelligible to implement it in a classic class structure.  "
   ]
  },
  {
   "cell_type": "code",
   "execution_count": 12,
   "metadata": {},
   "outputs": [],
   "source": [
    "import time\n",
    "from functools import wraps\n",
    "\n",
    "class RequestLimiter:\n",
    "    \n",
    "    def __init__(self, max_calls, period=1.0):\n",
    "        self.max_calls = max_calls # limit of number of calls per second\n",
    "        self.period = period       # time window \n",
    "        self.calls = []\n",
    "    \n",
    "    def __call__(self, f):\n",
    "        @wraps(f)\n",
    "        def wrapper(*args, **kwargs):\n",
    "            \n",
    "            # Sleep cycle \n",
    "            if len(self.calls) >= self.max_calls:\n",
    "                sleeptime = self.period - self._timespan\n",
    "                if sleeptime > 0:\n",
    "                    time.sleep(sleeptime)\n",
    "            \n",
    "            # function call \n",
    "            rv = f(*args, **kwargs) # `rv` = return value\n",
    "            \n",
    "            # keep track of calls within the time window\n",
    "            now = time.time()\n",
    "            self.calls += [now]\n",
    "            self.calls = [t for t in self.calls if now - t < self.period]\n",
    "            \n",
    "            return rv\n",
    "        return wrapper\n",
    "\n",
    "    @property\n",
    "    def _timespan(self):\n",
    "        return self.calls[-1] - self.calls[0] "
   ]
  },
  {
   "cell_type": "code",
   "execution_count": 13,
   "metadata": {},
   "outputs": [
    {
     "name": "stdout",
     "output_type": "stream",
     "text": [
      "second [0.15] call [0]: 403 Quota Exceeded\n",
      "second [0.31] call [1]: 403 Quota Exceeded\n",
      "second [0.46] call [2]: 200 OK\n",
      "second [0.62] call [3]: 200 OK\n",
      "second [0.77] call [4]: 200 OK\n",
      "second [1.30] call [5]: 200 OK\n",
      "second [1.46] call [6]: 200 OK\n",
      "second [1.61] call [7]: 200 OK\n",
      "second [1.77] call [8]: 200 OK\n",
      "second [1.92] call [9]: 200 OK\n"
     ]
    }
   ],
   "source": [
    "@RequestLimiter(5)\n",
    "def call_api_throttled():\n",
    "    return call_api()\n",
    "\n",
    "start = time.time()\n",
    "for i in range(10):\n",
    "    result = call_api_throttled()\n",
    "    print(f'second [{time.time() - start:.2f}] call [{i}]: {result}')"
   ]
  },
  {
   "cell_type": "markdown",
   "metadata": {},
   "source": [
    "### The context manager version"
   ]
  },
  {
   "cell_type": "markdown",
   "metadata": {},
   "source": [
    "In this particular context manager implementation, the context lives outside of the `with` block. However: every time we enter the `with` block we're back again inside the same context and the same state as when we left. Thus, the context manager keeps track of the state outside of the `with` block and enforces the required behaviour when we enter the `with` block. "
   ]
  },
  {
   "cell_type": "code",
   "execution_count": 14,
   "metadata": {},
   "outputs": [],
   "source": [
    "import time\n",
    "from functools import wraps\n",
    "\n",
    "class RequestLimiter:\n",
    "    \n",
    "    def __init__(self, max_calls, period=1.0):\n",
    "        self.max_calls = max_calls # limit of number of calls per second\n",
    "        self.period = period\n",
    "        self.calls = []\n",
    "    \n",
    "    def __call__(self, f):\n",
    "        @wraps(f)\n",
    "        def wrapper(*args, **kwargs):\n",
    "            with self:\n",
    "                return f(*args, **kwargs)\n",
    "        return wrapper\n",
    "    \n",
    "    def __enter__(self):\n",
    "        # Sleep cycle \n",
    "        if len(self.calls) >= self.max_calls:\n",
    "            sleeptime = self.period - self._timespan\n",
    "            if sleeptime > 0:\n",
    "                time.sleep(sleeptime)\n",
    "        return self\n",
    "\n",
    "    def __exit__(self, exc_type, exc_val, exc_tb):\n",
    "        # keep track of calls within the time window\n",
    "        now = time.time()\n",
    "        self.calls += [now]\n",
    "        self.calls = [t for t in self.calls if now - t < self.period]\n",
    "    \n",
    "    @property\n",
    "    def _timespan(self):\n",
    "        return self.calls[-1] - self.calls[0] "
   ]
  },
  {
   "cell_type": "code",
   "execution_count": 15,
   "metadata": {
    "scrolled": true
   },
   "outputs": [
    {
     "name": "stdout",
     "output_type": "stream",
     "text": [
      "second [0.15] call [0]: 403 Quota Exceeded\n",
      "second [0.31] call [1]: 403 Quota Exceeded\n",
      "second [0.46] call [2]: 200 OK\n",
      "second [0.61] call [3]: 200 OK\n",
      "second [0.76] call [4]: 200 OK\n",
      "second [1.31] call [5]: 200 OK\n",
      "second [1.46] call [6]: 200 OK\n",
      "second [1.61] call [7]: 200 OK\n",
      "second [1.77] call [8]: 200 OK\n",
      "second [1.92] call [9]: 200 OK\n"
     ]
    }
   ],
   "source": [
    "limiter = RequestLimiter(5) # the state lives outside of the function calls \n",
    "start = time.time()\n",
    "for i in range(10):\n",
    "    with limiter: \n",
    "        # :-:-: we enter the context manager's state :-:-:\n",
    "        # based on its state, the context manager decides\n",
    "        # when to to execute the code inside the block \n",
    "        result = call_api()\n",
    "        print(f'second [{time.time() - start:.2f}] call [{i}]: {result}')"
   ]
  },
  {
   "cell_type": "markdown",
   "metadata": {},
   "source": [
    "### Adding decorator syntax support"
   ]
  },
  {
   "cell_type": "markdown",
   "metadata": {},
   "source": [
    "We can add decorator syntax support with a simple modification of the `__call__` method, just as we did before. However, this time we don 't need to implement the entire logic again: simply make use of the context manager logic within the decorator. "
   ]
  },
  {
   "cell_type": "code",
   "execution_count": null,
   "metadata": {},
   "outputs": [],
   "source": []
  },
  {
   "cell_type": "markdown",
   "metadata": {},
   "source": [
    "This is as simple and elegant as it gets. \n",
    "\n",
    "Let's take this decorator for a spin. "
   ]
  },
  {
   "cell_type": "code",
   "execution_count": 16,
   "metadata": {},
   "outputs": [
    {
     "name": "stdout",
     "output_type": "stream",
     "text": [
      "second [0.15] call [0]: 403 Quota Exceeded\n",
      "second [0.31] call [1]: 403 Quota Exceeded\n",
      "second [0.46] call [2]: 200 OK\n",
      "second [0.61] call [3]: 200 OK\n",
      "second [0.77] call [4]: 200 OK\n",
      "second [1.31] call [5]: 200 OK\n",
      "second [1.46] call [6]: 200 OK\n",
      "second [1.61] call [7]: 200 OK\n",
      "second [1.76] call [8]: 200 OK\n",
      "second [1.92] call [9]: 200 OK\n"
     ]
    }
   ],
   "source": [
    "@RequestLimiter(5)\n",
    "def call_api_throttled():\n",
    "    return call_api()\n",
    "\n",
    "start = time.time()\n",
    "for i in range(10):\n",
    "    result = call_api_throttled()\n",
    "    print(f'second [{time.time() - start:.2f}] call [{i}]: {result}')"
   ]
  },
  {
   "cell_type": "markdown",
   "metadata": {},
   "source": [
    "Same as before. "
   ]
  },
  {
   "cell_type": "code",
   "execution_count": null,
   "metadata": {},
   "outputs": [],
   "source": []
  },
  {
   "cell_type": "code",
   "execution_count": null,
   "metadata": {},
   "outputs": [],
   "source": []
  },
  {
   "cell_type": "code",
   "execution_count": null,
   "metadata": {},
   "outputs": [],
   "source": []
  }
 ],
 "metadata": {
  "kernelspec": {
   "display_name": "Python 3",
   "language": "python",
   "name": "python3"
  },
  "language_info": {
   "codemirror_mode": {
    "name": "ipython",
    "version": 3
   },
   "file_extension": ".py",
   "mimetype": "text/x-python",
   "name": "python",
   "nbconvert_exporter": "python",
   "pygments_lexer": "ipython3",
   "version": "3.7.6"
  }
 },
 "nbformat": 4,
 "nbformat_minor": 2
}
