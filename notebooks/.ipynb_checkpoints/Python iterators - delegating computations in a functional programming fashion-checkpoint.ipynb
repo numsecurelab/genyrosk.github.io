{
 "cells": [
  {
   "cell_type": "markdown",
   "metadata": {},
   "source": [
    "# Python iterators"
   ]
  },
  {
   "cell_type": "markdown",
   "metadata": {},
   "source": [
    "One of the most misunderstood and glossed over capabilities of Python iterators lies at the core of what an interator is under the hood: a (somewhat special) generator. Whether you are familiar with Python generators or you have only heard a thing or two about them, allow me to summarise the 2 main properties of generator functions: \n",
    "\n",
    "- generators are **stateful** functions. \n",
    "\n",
    "- generators **delay computations until necessary**. \n",
    "\n",
    "Let's break down both of these properties into what they actually mean. "
   ]
  },
  {
   "cell_type": "markdown",
   "metadata": {},
   "source": [
    "\n",
    "\n",
    "#### Generators are stateful\n",
    "\n",
    "This means that in between calls, a generator is capable of storing state. Think of state as a variable or a collection of variables that hold values. A generator is thus capable of returning values that depend on that state. \n",
    "\n",
    "\n",
    "Let's look at a very simple example:"
   ]
  },
  {
   "cell_type": "markdown",
   "metadata": {},
   "source": [
    "``` python \n",
    "def generator_func():\n",
    "    a = 0\n",
    "    yield a\n",
    "    a = 10\n",
    "    yield a\n",
    "```\n",
    "\n",
    "```\n",
    ">>> generator_inst = generator()\n",
    "```"
   ]
  },
  {
   "cell_type": "markdown",
   "metadata": {},
   "source": [
    "Notice how we're using the special `yield` statement instead of the typical `return`. This is done on purpose: `generator_func` is a function while `generator_inst` is a generator instance, the 'true' generator if you like. The purpose of a generator function is to build the generator while the generator instance is the actual object that is going to run the code that we wrote. \n",
    "\n",
    "We can trace an analogy with classes: everything starts with the class definition, which describes how different parts of it work together, and when called returns an instance of itself that holds all the inner methods and variables. In short, class definitions are meant to define and build, while class instances are meant to be built and executed. \n",
    "\n",
    "Thus, a generator instance is not a value: it's a mapped computation. We can check it like so:   \n",
    "\n",
    "``` shell\n",
    ">>> generator_func\n",
    "<function __main__.generator_func()>\n",
    ">>> generator_inst\n",
    "<generator object generator at 0x1111401a8>\n",
    "```\n",
    "\n",
    "Notice how the generator instance is an object located at certain memory address. From now on we'll refer to the generator instance simply as a generator. Albeit, don't be suprised if the term 'generator' is used to refer to the generator function as well. "
   ]
  },
  {
   "cell_type": "markdown",
   "metadata": {},
   "source": [
    "At this point, you might be thinking:\n",
    "\n",
    "> Wait... but if calling the generator returns this address that stores the computation, how do I access the value that it's supposed to return ? \n",
    "\n",
    "This is where the `yield`/`next` pair truly kicks in. \n",
    "\n",
    "`yield` is a statment, i.e. a syntactic expression, that specifies the value that a generator returns, or, more precisely, the value that the generator __yields__, while `next` is a special Python function that summons the generator's inner code to execute until it encounters a `yield` statment, at which point it simply returns (yields) the specified value. \n",
    "\n",
    "Following our class analogy, you can think of `next` as a class method. \n",
    "\n",
    "Let's see an exmaple:"
   ]
  },
  {
   "cell_type": "markdown",
   "metadata": {},
   "source": [
    "``` shell\n",
    ">>> next(generator_inst)\n",
    "0\n",
    ">>> next(generator_inst)\n",
    "10\n",
    "```"
   ]
  },
  {
   "cell_type": "markdown",
   "metadata": {},
   "source": []
  },
  {
   "cell_type": "markdown",
   "metadata": {},
   "source": []
  },
  {
   "cell_type": "markdown",
   "metadata": {},
   "source": []
  },
  {
   "cell_type": "markdown",
   "metadata": {},
   "source": []
  },
  {
   "cell_type": "markdown",
   "metadata": {},
   "source": [
    "#### Generators delay computations until necessary \n",
    "\n",
    "A more eloquent way of putting it would be to say that that generators **map an input value to a computation** as opposed to what classic functions do, which is mapping an input value to an output value. The computation is performed until the value of that computation is explicitely requested. "
   ]
  },
  {
   "cell_type": "markdown",
   "metadata": {},
   "source": []
  },
  {
   "cell_type": "markdown",
   "metadata": {},
   "source": [
    "As programmers but also the main users of our own code, we're often inclined to write code that produces immediate, tangible results. "
   ]
  },
  {
   "cell_type": "markdown",
   "metadata": {},
   "source": []
  }
 ],
 "metadata": {
  "kernelspec": {
   "display_name": "Python 3",
   "language": "python",
   "name": "python3"
  },
  "language_info": {
   "codemirror_mode": {
    "name": "ipython",
    "version": 3
   },
   "file_extension": ".py",
   "mimetype": "text/x-python",
   "name": "python",
   "nbconvert_exporter": "python",
   "pygments_lexer": "ipython3",
   "version": "3.6.5"
  }
 },
 "nbformat": 4,
 "nbformat_minor": 2
}
