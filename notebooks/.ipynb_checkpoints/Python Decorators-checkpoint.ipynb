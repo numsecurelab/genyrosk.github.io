{
 "cells": [
  {
   "cell_type": "markdown",
   "metadata": {},
   "source": [
    "# Python Decorators "
   ]
  },
  {
   "cell_type": "markdown",
   "metadata": {},
   "source": [
    "Whether you are a beginner or an advanced programmer, there are many reasons why you should choose Python for your next coding project. Python is a scripted language with an almost stupidly simple syntax, it is easy to learn and powerful to use. One of the main reasons that ~~I love~~ people love Python is that is offers quite a few clear metaphors for doing certain things. One of these things involves wrapping functions with some repetitively used code. And so, in your quest to becoming a true Pythonista lie a type function that will help you improve and streamline your code: **decorators**. "
   ]
  },
  {
   "cell_type": "markdown",
   "metadata": {},
   "source": [
    "## Wrapping a function"
   ]
  },
  {
   "cell_type": "markdown",
   "metadata": {},
   "source": [
    "Imagine we have some API endpoint. We will simulate the behaviour of that endpoint with the `api_endpoint` function, which will return a response after a 1 second delay. "
   ]
  },
  {
   "cell_type": "code",
   "execution_count": 64,
   "metadata": {},
   "outputs": [],
   "source": [
    "import time \n",
    "\n",
    "def api_endpoint(seconds=1):\n",
    "    time.sleep(seconds)\n",
    "    return 'API response'\n"
   ]
  },
  {
   "cell_type": "markdown",
   "metadata": {},
   "source": [
    "Let's say that in our application we have a function that performs a request to this api endpoint and subsequently returns the result. "
   ]
  },
  {
   "cell_type": "code",
   "execution_count": 65,
   "metadata": {},
   "outputs": [
    {
     "name": "stdout",
     "output_type": "stream",
     "text": [
      "result:  API response\n"
     ]
    }
   ],
   "source": [
    "def call_api():\n",
    "    result = api_endpoint()\n",
    "    return result\n",
    "    \n",
    "result = call_api()\n",
    "print('result: ', result)"
   ]
  },
  {
   "cell_type": "markdown",
   "metadata": {},
   "source": [
    "Now let's imagine that we would like to time the execution of our api call. We can easily do this by using the `time.time` function and calculating the differece between the *before* and *after* times. "
   ]
  },
  {
   "cell_type": "code",
   "execution_count": 66,
   "metadata": {},
   "outputs": [
    {
     "name": "stdout",
     "output_type": "stream",
     "text": [
      "seconds: 1.0051519870758057\n",
      "result:  API response\n"
     ]
    }
   ],
   "source": [
    "def call_api_timed():\n",
    "    # [1] >>> start timer\n",
    "    start = time.time()\n",
    "    \n",
    "    # [2] >>> call the api \n",
    "    result = api_endpoint()\n",
    "    \n",
    "    # [3] >>> end timer, print the time difference\n",
    "    #         and return the result\n",
    "    end = time.time()\n",
    "    print('seconds:', end - start) \n",
    "    return result\n",
    "    \n",
    "result = call_api_timed()\n",
    "print('result: ', result)"
   ]
  },
  {
   "cell_type": "markdown",
   "metadata": {},
   "source": [
    "Works as expected ! \n",
    "\n",
    "\n",
    "## The Python way\n",
    "\n",
    "In Python we strive to do the minimum that gets the job done. That's the essence of a true Pythonista: no upfront design required, no complicated code necessary. Simply write the most bare bones, quick and dumb program you can that gets the job done and move on (go home to your kids what are you doing so late at your job?). \n",
    "\n",
    "However, there are times when keeping things primitive only makes the overall picture increasingly complicated. This is especially true when our application performs lots of repetitve tasks. This is where the magic of Python lies: Python allows you to extend your code in a simple way, without introducing much overhead. For that purpose it offers a number of coding paradigms, one of which we're going to be using today: **decorators**. \n",
    "\n",
    "> Decorators are repeatable bit of code that you want to run **before** and **after** some function execution. \n",
    "\n",
    "In our example we wrote 3 lines of code within our `call_api` function in order to keep track of how long the api takes to respond. Imagine now that we have multiple different functions that call different API endpoints and we would also like to time them. If we keep doing it the same way as we did earlier, a lot of code would start to get duplicated. "
   ]
  },
  {
   "cell_type": "code",
   "execution_count": 67,
   "metadata": {},
   "outputs": [],
   "source": [
    "#\n",
    "# We would have to repeat the same lines of code \n",
    "# for all the following functions\n",
    "# ...\n",
    "def api_endpoint_2():\n",
    "    pass\n",
    "    \n",
    "def api_endpoint_3():\n",
    "    pass\n",
    "\n",
    "def api_endpoint_4():\n",
    "    pass\n",
    "\n",
    "# ...\n",
    "# ...\n",
    "# ..."
   ]
  },
  {
   "cell_type": "markdown",
   "metadata": {},
   "source": [
    "The problem with duplication is that it affects code **readability** and **maintainability**: our code becomes harder to read and more difficult and time consuming to maintain. \n",
    "\n",
    "To solve this issue, let us define a function that automatically does the timing for us. "
   ]
  },
  {
   "cell_type": "code",
   "execution_count": 68,
   "metadata": {
    "scrolled": true
   },
   "outputs": [
    {
     "name": "stdout",
     "output_type": "stream",
     "text": [
      "seconds: 1.0002648830413818\n"
     ]
    },
    {
     "data": {
      "text/plain": [
       "'API response'"
      ]
     },
     "execution_count": 68,
     "metadata": {},
     "output_type": "execute_result"
    }
   ],
   "source": [
    "def time_me(func):\n",
    "    def wrapper():\n",
    "        ### BEFORE CODE\n",
    "        # [1] >>> start timer\n",
    "        start = time.time() \n",
    "        \n",
    "        ### EXECUTE FUNCTION\n",
    "        # [2] >>> call the function we're wrapping\n",
    "        result = func()\n",
    "        \n",
    "        ### AFTER CODE\n",
    "        # [3] >>> end timer, print the time difference\n",
    "        #         and return the result\n",
    "        end = time.time()\n",
    "        print('seconds:', end - start) \n",
    "        return result\n",
    "    return wrapper\n",
    "\n",
    "timed_api_call = time_me(call_api)\n",
    "timed_api_call()"
   ]
  },
  {
   "cell_type": "markdown",
   "metadata": {},
   "source": [
    "In the above example we wrote the function `time_me`, which accepts another function (our API endpoint calls) as argument and then effectively returns this function *wrapped* with some extra code: the samje timing lines we wrote before. \n",
    "\n",
    "Notice that `time_me` indeed returns a function:"
   ]
  },
  {
   "cell_type": "code",
   "execution_count": 69,
   "metadata": {},
   "outputs": [
    {
     "data": {
      "text/plain": [
       "<function __main__.time_me.<locals>.wrapper()>"
      ]
     },
     "execution_count": 69,
     "metadata": {},
     "output_type": "execute_result"
    }
   ],
   "source": [
    "timed_api_call"
   ]
  },
  {
   "cell_type": "markdown",
   "metadata": {},
   "source": [
    "Thus, whenever we call `timed_api_call`, we're actually calling the `wrapper` code block within the `time_me` function. This paradigm is often referred to as **function composition**. "
   ]
  },
  {
   "cell_type": "markdown",
   "metadata": {},
   "source": [
    "Ins't this just plain Awesome ?! We can now wrap this timer around any other function and print out the time it took to execute just as well as get the result back. \n",
    "\n",
    "Nevertheless, this introduces another, albeit minor, problem: long and convoluted lines of code. If we start to chain functions one after another, our code will become increasingly hard to read. \n",
    "\n"
   ]
  },
  {
   "cell_type": "code",
   "execution_count": 70,
   "metadata": {
    "collapsed": true
   },
   "outputs": [
    {
     "ename": "NameError",
     "evalue": "name 'first_function' is not defined",
     "output_type": "error",
     "traceback": [
      "\u001b[0;31m---------------------------------------------------------------------------\u001b[0m",
      "\u001b[0;31mNameError\u001b[0m                                 Traceback (most recent call last)",
      "\u001b[0;32m<ipython-input-70-ff372d71b9b6>\u001b[0m in \u001b[0;36m<module>\u001b[0;34m()\u001b[0m\n\u001b[0;32m----> 1\u001b[0;31m \u001b[0mfirst_function\u001b[0m\u001b[0;34m(\u001b[0m\u001b[0msecond_function\u001b[0m\u001b[0;34m(\u001b[0m\u001b[0mthird_function\u001b[0m\u001b[0;34m(\u001b[0m\u001b[0;34m...\u001b[0m\u001b[0;34m)\u001b[0m\u001b[0;34m)\u001b[0m\u001b[0;34m)\u001b[0m\u001b[0;34m\u001b[0m\u001b[0m\n\u001b[0m",
      "\u001b[0;31mNameError\u001b[0m: name 'first_function' is not defined"
     ]
    }
   ],
   "source": [
    "first_function(second_function(third_function(...))) "
   ]
  },
  {
   "cell_type": "markdown",
   "metadata": {},
   "source": [
    "In addition, we still need to explicitely perform the function composition by writing `timed_api_call = time_me(call_api)`. There's gotta be a better way smh... "
   ]
  },
  {
   "cell_type": "markdown",
   "metadata": {},
   "source": [
    "## Decorator syntax"
   ]
  },
  {
   "cell_type": "markdown",
   "metadata": {},
   "source": [
    "Enter the decorator syntactic sugar. With the Python decorator syntax, we can set a function A to wrap around another function B simply by adding an `@` (function A would then be called a decorator) in front of it before function B's definition. Like so: "
   ]
  },
  {
   "cell_type": "code",
   "execution_count": 12,
   "metadata": {
    "collapsed": true
   },
   "outputs": [
    {
     "ename": "NameError",
     "evalue": "name 'function_A' is not defined",
     "output_type": "error",
     "traceback": [
      "\u001b[0;31m---------------------------------------------------------------------------\u001b[0m",
      "\u001b[0;31mNameError\u001b[0m                                 Traceback (most recent call last)",
      "\u001b[0;32m<ipython-input-12-30ca6222d8f7>\u001b[0m in \u001b[0;36m<module>\u001b[0;34m()\u001b[0m\n\u001b[0;32m----> 1\u001b[0;31m \u001b[0;34m@\u001b[0m\u001b[0mfunction_A\u001b[0m\u001b[0;34m\u001b[0m\u001b[0m\n\u001b[0m\u001b[1;32m      2\u001b[0m \u001b[0;32mdef\u001b[0m \u001b[0mfunction_B\u001b[0m\u001b[0;34m(\u001b[0m\u001b[0;34m)\u001b[0m\u001b[0;34m:\u001b[0m\u001b[0;34m\u001b[0m\u001b[0m\n\u001b[1;32m      3\u001b[0m     \u001b[0;32mpass\u001b[0m\u001b[0;34m\u001b[0m\u001b[0m\n",
      "\u001b[0;31mNameError\u001b[0m: name 'function_A' is not defined"
     ]
    }
   ],
   "source": [
    "@function_A\n",
    "def function_B():\n",
    "    pass "
   ]
  },
  {
   "cell_type": "markdown",
   "metadata": {},
   "source": [
    "Every time we call `function_B`, `function_A` is executed beforehand. A decorator is thus just that: a nice-looking wrapper function. \n",
    "\n",
    "There no more extra code we need to write, simply **decorate** our `call_api` function with the `time_me` decorator: "
   ]
  },
  {
   "cell_type": "code",
   "execution_count": 71,
   "metadata": {},
   "outputs": [
    {
     "name": "stdout",
     "output_type": "stream",
     "text": [
      "seconds: 1.004122257232666\n",
      "result:  API response\n"
     ]
    }
   ],
   "source": [
    "@time_me\n",
    "def call_api():\n",
    "    res = api_endpoint()\n",
    "    return res\n",
    "\n",
    "result = call_api()\n",
    "print('result: ', result)"
   ]
  },
  {
   "cell_type": "markdown",
   "metadata": {},
   "source": [
    "It just works !"
   ]
  },
  {
   "cell_type": "markdown",
   "metadata": {},
   "source": [
    "### How to deal with arguments \n",
    "\n",
    "We can also extend the functionality of our decorator by having it pass incoming arguments to the wrapped function. "
   ]
  },
  {
   "cell_type": "code",
   "execution_count": 72,
   "metadata": {},
   "outputs": [
    {
     "name": "stdout",
     "output_type": "stream",
     "text": [
      "arguments passed: (1.5,) {}\n",
      "seconds: 1.5012753009796143\n",
      "result:  API response\n"
     ]
    }
   ],
   "source": [
    "def time_me(func):\n",
    "    def wrapper(*args, **kwargs): ## accept arguments        \n",
    "        ### BEFORE CODE\n",
    "        start = time.time() # start time\n",
    "        \n",
    "        ### EXECUTE FUNCTION\n",
    "        # >>> pass the arguments to the function we're wrapping\n",
    "        print('arguments passed:', args, kwargs)\n",
    "        result = func(*args, **kwargs)\n",
    "        \n",
    "        ### AFTER CODE\n",
    "        end = time.time()\n",
    "        print('seconds:', end - start) \n",
    "        return result\n",
    "    return wrapper\n",
    "\n",
    "@time_me\n",
    "def call_api(seconds):\n",
    "    res = api_endpoint(seconds=seconds)\n",
    "    return res\n",
    "\n",
    "result = call_api(1.5)\n",
    "print('result: ', result)"
   ]
  },
  {
   "cell_type": "markdown",
   "metadata": {},
   "source": [
    "## Decorators that accept arguments"
   ]
  },
  {
   "cell_type": "markdown",
   "metadata": {},
   "source": [
    "\"Can we pass arguments to the decorator itself ?\" you might ask. The answer is yes ! But we would have to do some additional modifications to allow our decorator to accept arguments. Let's say you would want this function to sometimes print seconds, while other times you would rather have it print milliseconds. \n",
    "\n",
    "We want the function that is returned by `time_me`, i.e. `wrapper`, to accept and pass on the arguments that the wrapped function accepts. Luckily Python has some additional synactic sugar to allow for an arbitrary number of arguments and keyed arguments to be passed around. "
   ]
  },
  {
   "cell_type": "code",
   "execution_count": 55,
   "metadata": {},
   "outputs": [],
   "source": [
    "from functools import wraps\n",
    "\n",
    "def time_me(milliseconds=False):\n",
    "    def decorator(func):\n",
    "        @wraps(func)\n",
    "        def wrapper(*args, **kwargs):\n",
    "            ### BEFORE CODE\n",
    "            start = time.time()\n",
    "            \n",
    "            ### EXECUTE FUNCTION\n",
    "            result = func(*args, **kwargs)\n",
    "            \n",
    "            ### AFTER CODE\n",
    "            # >>> print in seconds or milliseconds \n",
    "            end = time.time()\n",
    "            if milliseconds:\n",
    "                print('milliseconds:', (end - start)*1000)\n",
    "            else:\n",
    "                print('seconds:', end - start)\n",
    "            return result\n",
    "        return wrapper\n",
    "    return decorator\n",
    "\n",
    "@time_me(milliseconds=True)\n",
    "def call_api():\n",
    "    res = api_endpoint()\n",
    "    return res"
   ]
  },
  {
   "cell_type": "code",
   "execution_count": 56,
   "metadata": {
    "scrolled": true
   },
   "outputs": [
    {
     "name": "stdout",
     "output_type": "stream",
     "text": [
      "milliseconds: 1000.8730888366699\n"
     ]
    },
    {
     "data": {
      "text/plain": [
       "'API response'"
      ]
     },
     "execution_count": 56,
     "metadata": {},
     "output_type": "execute_result"
    }
   ],
   "source": [
    "call_api()"
   ]
  },
  {
   "cell_type": "markdown",
   "metadata": {},
   "source": [
    "Success ! "
   ]
  },
  {
   "cell_type": "markdown",
   "metadata": {},
   "source": [
    "Don't worry too much about the `@wraps` decorator: it's a special Python function that renames the wrapper name into the function that it's wrapping."
   ]
  },
  {
   "cell_type": "code",
   "execution_count": 57,
   "metadata": {},
   "outputs": [
    {
     "name": "stdout",
     "output_type": "stream",
     "text": [
      "<function time_me.<locals>.decorator.<locals>.wrapper at 0x11160a2f0>\n"
     ]
    }
   ],
   "source": [
    "## without @wraps\n",
    "print(call_api)"
   ]
  },
  {
   "cell_type": "code",
   "execution_count": 54,
   "metadata": {},
   "outputs": [
    {
     "name": "stdout",
     "output_type": "stream",
     "text": [
      "<function call_api at 0x11160a268>\n"
     ]
    }
   ],
   "source": [
    "## with @wraps\n",
    "print(call_api)"
   ]
  },
  {
   "cell_type": "markdown",
   "metadata": {},
   "source": [
    "It helps with debugging. Keep this in mind when you're writing open source code or if you're expecting other people to work with your functions.  "
   ]
  },
  {
   "cell_type": "markdown",
   "metadata": {},
   "source": [
    "### One last thing"
   ]
  },
  {
   "cell_type": "markdown",
   "metadata": {},
   "source": [
    "With a little bit of care, you can also define decorators that can be used both with and without arguments. Most likely, you don’t need this, but it is nice to have the flexibility."
   ]
  },
  {
   "cell_type": "code",
   "execution_count": 79,
   "metadata": {},
   "outputs": [],
   "source": [
    "from functools import wraps\n",
    "\n",
    "def time_me(_func=None, *, milliseconds=False):\n",
    "    \n",
    "    ### same as before\n",
    "    def decorator(func):\n",
    "        @wraps(func)\n",
    "        def wrapper(*args, **kwargs):\n",
    "            start = time.time()\n",
    "            result = func(*args, **kwargs)\n",
    "            end = time.time()\n",
    "            if milliseconds:\n",
    "                print('milliseconds:', (end - start)*1000)\n",
    "            else:\n",
    "                print('seconds:', end - start)\n",
    "            return result\n",
    "        return wrapper\n",
    "    \n",
    "    ### call the decorator if the first argument is a function \n",
    "    ### otherwise return the decorator function (without calling it)\n",
    "    if _func is None:\n",
    "        return decorator\n",
    "    else:\n",
    "        return decorator(_func)\n",
    "\n"
   ]
  },
  {
   "cell_type": "markdown",
   "metadata": {},
   "source": [
    "Then all the following can work: "
   ]
  },
  {
   "cell_type": "code",
   "execution_count": 77,
   "metadata": {},
   "outputs": [],
   "source": [
    "@time_me\n",
    "def call_api_1():\n",
    "    res = api_endpoint()\n",
    "    return res\n",
    "\n",
    "@time_me()\n",
    "def call_api_2():\n",
    "    res = api_endpoint()\n",
    "    return res\n",
    "\n",
    "@time_me(milliseconds=True)\n",
    "def call_api_3():\n",
    "    res = api_endpoint()\n",
    "    return res"
   ]
  },
  {
   "cell_type": "code",
   "execution_count": 78,
   "metadata": {},
   "outputs": [
    {
     "name": "stdout",
     "output_type": "stream",
     "text": [
      "seconds: 1.0042738914489746\n",
      "API response\n",
      "seconds: 1.0040597915649414\n",
      "API response\n",
      "milliseconds: 1002.3050308227539\n",
      "API response\n"
     ]
    }
   ],
   "source": [
    "print(call_api_1())\n",
    "print(call_api_2())\n",
    "print(call_api_3())"
   ]
  },
  {
   "cell_type": "markdown",
   "metadata": {},
   "source": [
    "## Bonus: Class implementation"
   ]
  },
  {
   "cell_type": "markdown",
   "metadata": {},
   "source": [
    "Python treats everything as an object. **Everything**. That includes variables, functions, classes, lists, etc. \n",
    "\n",
    "Python includes special class syntax that allows a decorator to be expressed in a class form. Whenever a class instance is called, the Python interpreter calls the `__call__` method in the background for us. We can intercept this calling by overriding this classs method in our class definition. \n"
   ]
  },
  {
   "cell_type": "code",
   "execution_count": 55,
   "metadata": {},
   "outputs": [],
   "source": [
    "class TimeMe:\n",
    "    \n",
    "    def __init__(self, milliseconds=False):\n",
    "        self.milliseconds = milliseconds\n",
    "        \n",
    "    def __call__(self, func):\n",
    "        @wraps(func)\n",
    "        def decorator(*args, **kwargs):\n",
    "            # 1. start timer\n",
    "            start = time.time()\n",
    "\n",
    "            # 2. execute wrapped function\n",
    "            result = func(*args, **kwargs)\n",
    "\n",
    "            # 3. end timer\n",
    "            end = time.time()\n",
    "            \n",
    "            # 4. print result\n",
    "            if self.milliseconds:\n",
    "                print('milliseconds:', (end - start)*1000)\n",
    "            else:\n",
    "                print('seconds:', end - start)\n",
    "            return result\n",
    "        return decorator     "
   ]
  },
  {
   "cell_type": "code",
   "execution_count": 56,
   "metadata": {},
   "outputs": [
    {
     "name": "stdout",
     "output_type": "stream",
     "text": [
      "__init__\n",
      "__call__ \n",
      "__init__\n",
      "__call__ \n"
     ]
    }
   ],
   "source": [
    "timer = TimeMe(milliseconds=True)\n",
    "\n",
    "@timer\n",
    "def some_func(x):\n",
    "    return 2*x\n",
    "\n",
    "# \n",
    "# or \n",
    "# \n",
    "\n",
    "@TimeMe(milliseconds=True)\n",
    "def some_func(x):\n",
    "    return 2*x"
   ]
  },
  {
   "cell_type": "code",
   "execution_count": 57,
   "metadata": {},
   "outputs": [
    {
     "name": "stdout",
     "output_type": "stream",
     "text": [
      "milliseconds: 0.0019073486328125\n"
     ]
    },
    {
     "data": {
      "text/plain": [
       "4"
      ]
     },
     "execution_count": 57,
     "metadata": {},
     "output_type": "execute_result"
    }
   ],
   "source": [
    "some_func(2)"
   ]
  },
  {
   "cell_type": "code",
   "execution_count": null,
   "metadata": {},
   "outputs": [],
   "source": []
  }
 ],
 "metadata": {
  "kernelspec": {
   "display_name": "Python 3",
   "language": "python",
   "name": "python3"
  },
  "language_info": {
   "codemirror_mode": {
    "name": "ipython",
    "version": 3
   },
   "file_extension": ".py",
   "mimetype": "text/x-python",
   "name": "python",
   "nbconvert_exporter": "python",
   "pygments_lexer": "ipython3",
   "version": "3.6.5"
  }
 },
 "nbformat": 4,
 "nbformat_minor": 2
}
