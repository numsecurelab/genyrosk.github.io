{
 "cells": [
  {
   "cell_type": "markdown",
   "metadata": {},
   "source": [
    "# Python Context Managers"
   ]
  },
  {
   "cell_type": "code",
   "execution_count": null,
   "metadata": {},
   "outputs": [],
   "source": []
  },
  {
   "cell_type": "markdown",
   "metadata": {},
   "source": [
    "# Combining Python Context Managers and Decorators"
   ]
  },
  {
   "cell_type": "code",
   "execution_count": null,
   "metadata": {},
   "outputs": [],
   "source": [
    "import time "
   ]
  },
  {
   "cell_type": "code",
   "execution_count": null,
   "metadata": {},
   "outputs": [],
   "source": [
    "class TimeMe:\n",
    "    \n",
    "    def __init__(self, milliseconds=False):\n",
    "        print('__init__')\n",
    "        self.milliseconds = milliseconds\n",
    "        \n",
    "    def __call__(self, func):\n",
    "        print('__call__ ')\n",
    "        def decorator(*args, **kwargs):\n",
    "            # 1. start timer\n",
    "            start = time.time()\n",
    "\n",
    "            # 2. execute wrapped function\n",
    "            result = func(*args, **kwargs)\n",
    "\n",
    "            # 3. end timer\n",
    "            end = time.time()\n",
    "            \n",
    "            # 4. print result\n",
    "            if self.milliseconds:\n",
    "                print('milliseconds:', (end - start)*1000)\n",
    "            else:\n",
    "                print('seconds:', end - start)\n",
    "            return result\n",
    "        return decorator\n",
    "    \n",
    "    def __enter__(self):\n",
    "        print('enter')\n",
    "        pass \n",
    "    \n",
    "    def __exit__(self):\n",
    "        print('exit')\n",
    "        pass "
   ]
  },
  {
   "cell_type": "code",
   "execution_count": null,
   "metadata": {},
   "outputs": [],
   "source": [
    "with TimeMe() as t:\n",
    "    print('middle')"
   ]
  },
  {
   "cell_type": "code",
   "execution_count": null,
   "metadata": {},
   "outputs": [],
   "source": [
    "@TimeMe()\n",
    "def some_func(x):\n",
    "    return 2*x"
   ]
  },
  {
   "cell_type": "code",
   "execution_count": null,
   "metadata": {},
   "outputs": [],
   "source": []
  }
 ],
 "metadata": {
  "kernelspec": {
   "display_name": "Python 3",
   "language": "python",
   "name": "python3"
  },
  "language_info": {
   "codemirror_mode": {
    "name": "ipython",
    "version": 3
   },
   "file_extension": ".py",
   "mimetype": "text/x-python",
   "name": "python",
   "nbconvert_exporter": "python",
   "pygments_lexer": "ipython3",
   "version": "3.6.5"
  }
 },
 "nbformat": 4,
 "nbformat_minor": 2
}
