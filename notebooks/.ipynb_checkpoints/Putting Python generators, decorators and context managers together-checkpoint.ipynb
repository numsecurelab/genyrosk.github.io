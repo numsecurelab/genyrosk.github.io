{
 "cells": [
  {
   "cell_type": "markdown",
   "metadata": {},
   "source": [
    "# Python Context Managers"
   ]
  },
  {
   "cell_type": "code",
   "execution_count": null,
   "metadata": {},
   "outputs": [],
   "source": []
  },
  {
   "cell_type": "markdown",
   "metadata": {},
   "source": [
    "# Combining Python Context Managers and Decorators"
   ]
  },
  {
   "cell_type": "code",
   "execution_count": null,
   "metadata": {},
   "outputs": [],
   "source": [
    "import time "
   ]
  },
  {
   "cell_type": "code",
   "execution_count": null,
   "metadata": {},
   "outputs": [],
   "source": [
    "class TimeMe:\n",
    "    \n",
    "    def __init__(self, _func=None, *args, milliseconds=False, **kwargs):\n",
    "        print('init')\n",
    "        self.milliseconds = milliseconds\n",
    "        self._func = _func\n",
    "    \n",
    "    def __new__(cls, _func=None, *args, milliseconds=False, **kwargs):\n",
    "        print(\"new\")\n",
    "        print(_func, args, milliseconds, kwargs)\n",
    "        instance = super(TimeMe, cls).__new__(cls, *args, **kwargs)\n",
    "        instance.__init__(instance, *args, milliseconds=False, **kwargs)\n",
    "        print(\"new called\")\n",
    "#         return instance.__call__(instance)\n",
    "#         instance.milliseconds = milliseconds\n",
    "        if _func is None:\n",
    "            print('func given')\n",
    "            return instance\n",
    "        else:\n",
    "            print('no func')\n",
    "            return instance.__call__(_func)\n",
    "        \n",
    "    def __call__(self, func):\n",
    "        print('call', func)\n",
    "        def wrapper(_func):\n",
    "            print('wrapper')\n",
    "            def decorator(*args, **kwargs):\n",
    "                print('decorator')\n",
    "                # start timer\n",
    "                start = time.time()\n",
    "\n",
    "                # execute wrapped function\n",
    "                result = _func(*args, **kwargs)\n",
    "\n",
    "                # end timer\n",
    "                end = time.time()\n",
    "                if self.milliseconds:\n",
    "                    print('milliseconds:', (end - start)*1000)\n",
    "                else:\n",
    "                    print('seconds:', end - start)\n",
    "                return result\n",
    "            return decorator\n",
    "    \n",
    "        if func is None:\n",
    "            return wrapper(func)\n",
    "        else:\n",
    "            return wrapper(func)"
   ]
  },
  {
   "cell_type": "code",
   "execution_count": null,
   "metadata": {},
   "outputs": [],
   "source": [
    "@TimeMe()\n",
    "def some_func(x):\n",
    "    return 2*x"
   ]
  },
  {
   "cell_type": "code",
   "execution_count": null,
   "metadata": {},
   "outputs": [],
   "source": [
    "some_func(4)"
   ]
  },
  {
   "cell_type": "markdown",
   "metadata": {},
   "source": [
    "<br/> \n",
    "<br/> \n",
    "<br/> \n",
    "\n",
    "----\n",
    "\n",
    "<br/> \n",
    "<br/> \n",
    "<br/> "
   ]
  },
  {
   "cell_type": "code",
   "execution_count": 1,
   "metadata": {},
   "outputs": [],
   "source": [
    "class TimeMe:\n",
    "    \n",
    "    def __init__(self, _func=None, *args, milliseconds=False, **kwargs):\n",
    "        print('init')\n",
    "        self.milliseconds = milliseconds\n",
    "        self._func = _func\n",
    "    \n",
    "    def __new__(cls, _func=None, *args, milliseconds=False, **kwargs):\n",
    "        print(\"new\")\n",
    "        print(_func, args, milliseconds, kwargs)\n",
    "        instance = super(TimeMe, cls).__new__(cls, *args, **kwargs)\n",
    "        instance.__init__(instance, *args, milliseconds=False, **kwargs)\n",
    "        print(\"new called\")\n",
    "#         return instance.__call__(instance)\n",
    "#         instance.milliseconds = milliseconds\n",
    "        if _func is None:\n",
    "            print('func given')\n",
    "            return instance\n",
    "        else:\n",
    "            print('no func')\n",
    "            return instance.__call__(_func)\n",
    "        \n",
    "    def __call__(self, func):\n",
    "        print('call', func)\n",
    "        def wrapper(_func):\n",
    "            print('wrapper')\n",
    "            def decorator(*args, **kwargs):\n",
    "                print('decorator')\n",
    "                # start timer\n",
    "                start = time.time()\n",
    "\n",
    "                # execute wrapped function\n",
    "                result = _func(*args, **kwargs)\n",
    "\n",
    "                # end timer\n",
    "                end = time.time()\n",
    "                if self.milliseconds:\n",
    "                    print('milliseconds:', (end - start)*1000)\n",
    "                else:\n",
    "                    print('seconds:', end - start)\n",
    "                return result\n",
    "            return decorator\n",
    "    \n",
    "        if func is None:\n",
    "            return wrapper(func)\n",
    "        else:\n",
    "            return wrapper(func)"
   ]
  },
  {
   "cell_type": "code",
   "execution_count": 21,
   "metadata": {
    "scrolled": true
   },
   "outputs": [
    {
     "name": "stdout",
     "output_type": "stream",
     "text": [
      "new 2 called\n",
      "None\n",
      "<class '__main__.Demo'>\n",
      "new 2 called\n",
      "None\n",
      "sth Demo\n",
      "__call__ called\n",
      "(2,)\n",
      "{}\n"
     ]
    },
    {
     "data": {
      "text/plain": [
       "4"
      ]
     },
     "execution_count": 21,
     "metadata": {},
     "output_type": "execute_result"
    }
   ],
   "source": [
    "class Demo:\n",
    "    def __init__(self, func):\n",
    "        print('sth Demo')\n",
    "        self.func = func\n",
    "    \n",
    "    def __call__(self, *args, **kwargs):\n",
    "        print('__call__ called')\n",
    "        print(args)\n",
    "        print(kwargs)\n",
    "        return self.func(*args)\n",
    "\n",
    "class Demo_2:\n",
    "    def __init__(self):\n",
    "        print('sth Demo 2')\n",
    "        \n",
    "    def __new__(self, func=None):\n",
    "        print('new 2 called')\n",
    "        print(func)\n",
    "        if func is not None:\n",
    "            return Demo(func)\n",
    "        else:\n",
    "            return Demo\n",
    "\n",
    "sth = Demo_2()\n",
    "print(sth)\n",
    "    \n",
    "@Demo_2()\n",
    "def f(x):\n",
    "    return 2*x\n",
    "f(2)"
   ]
  },
  {
   "cell_type": "code",
   "execution_count": 30,
   "metadata": {},
   "outputs": [],
   "source": [
    "class Ok:\n",
    "    \n",
    "    def __init__(self, f, *args, **kwargs):\n",
    "        print('__init__ called')\n",
    "        print(args)\n",
    "        print(kwargs)\n",
    "        self.f = f\n",
    "        \n",
    "#     def __new__(self, *args, **kwargs):\n",
    "#         print('__new__ called')\n",
    "#         print(args)\n",
    "#         print(kwargs)\n",
    "    \n",
    "    def __call__(self, *args, **kwargs):\n",
    "        print('__call__ called')\n",
    "        print(args)\n",
    "        print(kwargs)"
   ]
  },
  {
   "cell_type": "code",
   "execution_count": 33,
   "metadata": {},
   "outputs": [
    {
     "name": "stdout",
     "output_type": "stream",
     "text": [
      "__new__ called\n",
      "(10,)\n",
      "{}\n"
     ]
    }
   ],
   "source": [
    "a = Ok(10)"
   ]
  },
  {
   "cell_type": "code",
   "execution_count": null,
   "metadata": {},
   "outputs": [],
   "source": []
  }
 ],
 "metadata": {
  "kernelspec": {
   "display_name": "Python 3",
   "language": "python",
   "name": "python3"
  },
  "language_info": {
   "codemirror_mode": {
    "name": "ipython",
    "version": 3
   },
   "file_extension": ".py",
   "mimetype": "text/x-python",
   "name": "python",
   "nbconvert_exporter": "python",
   "pygments_lexer": "ipython3",
   "version": "3.7.2"
  }
 },
 "nbformat": 4,
 "nbformat_minor": 2
}
