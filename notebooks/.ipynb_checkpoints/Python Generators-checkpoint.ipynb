{
 "cells": [
  {
   "cell_type": "markdown",
   "metadata": {},
   "source": [
    "# Python Generators\n",
    "\n",
    "> There are already many very helpful tutorials on the subject. A list of references can be found at end. In this piece I wanted to take a fresh look and share my own experience with python generators that I have gathered while working on production-level Python code. "
   ]
  },
  {
   "cell_type": "markdown",
   "metadata": {},
   "source": [
    "Whether you are familiar with Python generators or you have only heard a thing or two about them, allow me to summarise the 2 main properties of generator functions: \n",
    "\n",
    "- generators are **stateful** functions. \n",
    "\n",
    "- generators **delay computations until necessary**. \n",
    "\n",
    "Let's break down both of these properties into what they actually mean. "
   ]
  },
  {
   "cell_type": "markdown",
   "metadata": {},
   "source": [
    "## Generator functions vs generator instances\n",
    "\n",
    "Let's take a look at a simple example: "
   ]
  },
  {
   "cell_type": "markdown",
   "metadata": {},
   "source": [
    "``` python \n",
    "def generator_func():\n",
    "    a = 0\n",
    "    yield a\n",
    "    a = 10\n",
    "    yield a\n",
    "```\n",
    "\n",
    "```\n",
    ">>> generator_instance = generator_func()\n",
    "```"
   ]
  },
  {
   "cell_type": "markdown",
   "metadata": {},
   "source": [
    "Notice how we're using the special `yield` statement instead of the typical `return`. This is done on purpose: `generator_func` is a function while `generator_instance` is a generator instance, the 'true' generator if you like. \n",
    "\n",
    "The purpose of a generator function is to build the generator instance, while the generator instance is the actual object that is going to run the specified code inside of the function. \n",
    "\n",
    "This is because, as we will see more in detail later, **generators are stateful**. Thus we need to initialize an instance of this generator in its initial state, that will change everytime we make call it. \n",
    "\n",
    "We can trace an analogy with **Python classes**: everything starts with the class definition, which describes how different parts of it work together, and when called returns an instance of itself that holds all the inner methods and variables. In short, class definitions are meant to define and build, while class instances are meant to be built and executed. "
   ]
  },
  {
   "cell_type": "markdown",
   "metadata": {},
   "source": [
    "\n",
    "As you might have inferred based on this analogy, a generator instance, just like a class instance, is not a value. A generator instance is a **mapped computation** object that sits in a certain memory address (unlike functions). We can check it like so: \n",
    "\n",
    "``` python\n",
    ">>> generator_func\n",
    "<function __main__.generator_func()>\n",
    ">>> generator_instance\n",
    "<generator object generator at 0x1111401a8>\n",
    "```\n",
    "\n",
    "Notice how the generator instance is an object located in the `0x1111401a8` memory address. \n",
    "\n",
    "From now on we'll refer to the generator instance simply as a *generator*. Albeit, don't be suprised if the term 'generator' is used to refer to the generator function as well. "
   ]
  },
  {
   "cell_type": "markdown",
   "metadata": {},
   "source": [
    "## Retrieve values from generators using `yield`/`next`\n",
    "\n",
    "At this point, you might be thinking:\n",
    "\n",
    "_\"Wait... but if calling the generator returns this address that stores the computation, how do I access the value that it's supposed to return ?\"_\n",
    "\n",
    "This is where the `yield`/`next` pair truly kicks in. \n",
    "\n",
    "`yield` is a statment, i.e. a syntactic expression, that specifies the value that a generator returns, or, more precisely, the value that the generator __yields__, while `next` is a special Python function that summons the generator's inner code to execute until it encounters a `yield` statment, at which point it simply returns (yields) the specified value. \n",
    "    \n",
    "> The reason why the generator *yields* instead of *returning*, is because a function return implies that the function has finished executing, that there's nothing left for that function to do. A generator can *yield* as many values as a programmer desires. It can *yield* values indefinetely in fact. When the `return` expression is used in a generator, the generator exits and computation is finished. \n",
    "\n",
    "Following our class analogy, you can think of `next` as a class method. \n",
    "\n",
    "Let's look at our example again:"
   ]
  },
  {
   "cell_type": "markdown",
   "metadata": {},
   "source": [
    "```python\n",
    "def generator_func():\n",
    "    a = 0\n",
    "    yield a\n",
    "    a = 10\n",
    "    yield a\n",
    "    \n",
    "generator_instance = generator_func()\n",
    "```\n",
    "\n",
    "``` python\n",
    ">>> next(generator_instance)\n",
    "0\n",
    "```"
   ]
  },
  {
   "cell_type": "markdown",
   "metadata": {},
   "source": [
    "Awesome ! We got a value out of our generator ! So what just happened ? \n",
    "\n",
    "The generator started on line 1, and assigned `0` to the variable `a`. Then it executed the `yield a` statement and yielded the value of `a`. \n",
    "\n",
    "_\"So... is this it then ?\"_\n",
    "\n",
    "Well, the generator is now **paused**: it stopped at the yield statement, and is waiting for us to calling it again to resume its computation. So let's do just that:\n",
    "\n",
    "``` python\n",
    ">>> next(generator_instance)\n",
    "10\n",
    "```\n",
    "\n",
    "We got the new value of `a` out ! Let's try one more time:\n",
    "\n",
    "``` python\n",
    ">>> next(generator_instance)\n",
    "---------------------------------------------------------------------------\n",
    "StopIteration                             Traceback (most recent call last)\n",
    "<ipython-input-5-50ee8ff2a4f6> in <module>\n",
    "----> 1 next(generator_instance)\n",
    "\n",
    "StopIteration:\n",
    "```\n",
    "\n",
    "Oh oh, something wrong must have happened there... But this is actually the expected behaviour: once the Python interpreter understand that there's not more code to be executed inside of a generator, it will promptly raise a special exception called `StopIteration`. In fact, the exact same thing will happen if we add a `return` statement at the end:\n",
    "\n",
    "```python\n",
    "def generator_func():\n",
    "    a = 0\n",
    "    yield a\n",
    "    a = 10\n",
    "    yield a\n",
    "    return\n",
    "    \n",
    "generator_instance = generator_func()\n",
    "next(generator_instance) # 0\n",
    "next(generator_instance) # 10\n",
    "next(generator_instance) # StopIteration is raised\n",
    "```\n",
    "\n",
    "Output:\n",
    "```shell\n",
    "0\n",
    "10\n",
    "---------------------------------------------------------------------------\n",
    "StopIteration                             Traceback (most recent call last)\n",
    "<ipython-input-5-50ee8ff2a4f6> in <module>\n",
    "----> 1 next(generator_instance)\n",
    "\n",
    "StopIteration:\n",
    "```"
   ]
  },
  {
   "cell_type": "markdown",
   "metadata": {},
   "source": [
    "You might be shaking your head and wondering why has it been designed this way. Can't the generator signal that it finished in some other way ? Well, not really, not in Python at least. \n",
    "\n",
    "But this exception is actually very useful, it can be easily captured and will thus prevent unnecessary computation. \n",
    "\n",
    "You can of course watch out for the exception explcitely:\n",
    "\n",
    "```python\n",
    "generator_instance = generator_func()\n",
    "while true:\n",
    "    try:\n",
    "        value = next(generator_instance)\n",
    "        print(value)\n",
    "    except StopIteration:\n",
    "        break\n",
    "print('done')\n",
    "```\n",
    "\n",
    "Output:\n",
    "```shell\n",
    "0\n",
    "10\n",
    "done\n",
    "```\n",
    "\n",
    "But the Python way would be do it in a for loop. Why ? Because in additionto calling `next` on the generator for you, Python `for` loops automatically check for the `StopIteration` exception for you and will exit the loop context as soon as this exception is raised. \n",
    "\n",
    "\n",
    "```python\n",
    "for value in generator_func(): # you can call the function immediately\n",
    "    print(value)\n",
    "print('done)\n",
    "```\n",
    "\n",
    "Output:\n",
    "```shell\n",
    "0\n",
    "10\n",
    "done\n",
    "```\n",
    "\n",
    "Much, much, much neater. \n"
   ]
  },
  {
   "cell_type": "markdown",
   "metadata": {},
   "source": [
    "## Generators are stateful\n",
    "\n",
    "This means that in between calls, a generator is capable of storing state. Think of state as a variable or a collection of variables that holds values. A generator is thus capable of returning values that depend on that state. \n",
    "\n",
    "Let us illustrate it with another generator function where we have a stateful variable `a`:\n",
    "\n",
    "``` python \n",
    "def generator_func():\n",
    "    a = 0\n",
    "    while a < 5:\n",
    "        a += 1\n",
    "        yield a\n",
    "        \n",
    "g = generator_func()\n",
    "for value in g:\n",
    "    print(value)\n",
    "```\n",
    "\n",
    "Output:\n",
    "```\n",
    "1\n",
    "2\n",
    "3\n",
    "4\n",
    "5\n",
    "```"
   ]
  },
  {
   "cell_type": "markdown",
   "metadata": {},
   "source": [
    "Everytime the generator is called, it executes all the lines of code until it reaches a `yield` statement. During this execution, the value of `a` changes and is then yielded back to us. \n",
    "\n",
    "This functionality can be very useful if we need the output of the generator to depend on a previous state. "
   ]
  },
  {
   "cell_type": "code",
   "execution_count": 36,
   "metadata": {},
   "outputs": [
    {
     "name": "stdout",
     "output_type": "stream",
     "text": [
      "1\n",
      "2\n",
      "3\n",
      "4\n",
      "5\n"
     ]
    }
   ],
   "source": [
    "## DEMO\n",
    "def generator_func():\n",
    "    a = 0\n",
    "    while a < 5:\n",
    "        a += 1\n",
    "        yield a\n",
    "        \n",
    "g = generator_func()\n",
    "for value in g:\n",
    "    print(value)"
   ]
  },
  {
   "cell_type": "markdown",
   "metadata": {},
   "source": [
    "## Pass values bak to the generator\n"
   ]
  },
  {
   "cell_type": "markdown",
   "metadata": {},
   "source": [
    "We have seen how to get values form a generator, but we are yet to see how we can **pass values back to the generator**. \n",
    "\n",
    "Yes, you heard that right. In addition to yielding a continuous stream of output values, generators can also accept a continuous stream of input values, which they can then use to compute the next output (they are stateful after all). \n",
    "\n",
    "To pass a value back to the generator, use the `.send(value)` method on the generator instance. \n",
    "\n",
    "Let's see how this works with an example:\n",
    "\n",
    "\n",
    "```python\n",
    "def my_generator(): \n",
    "    a = yield\n",
    "    print('a:', a)\n",
    "    a = yield\n",
    "    print('a:', a)\n",
    "    yield\n",
    "    \n",
    "g = my_generator()\n",
    "next(g)\n",
    "g.send(1)\n",
    "g.send(2)\n",
    "```\n",
    "\n",
    "Output:\n",
    "```shell\n",
    "a: 1\n",
    "a: 2\n",
    "```"
   ]
  },
  {
   "cell_type": "code",
   "execution_count": 50,
   "metadata": {},
   "outputs": [
    {
     "name": "stdout",
     "output_type": "stream",
     "text": [
      "a: 1\n",
      "a: 2\n"
     ]
    }
   ],
   "source": [
    "def my_generator(): \n",
    "    a = yield\n",
    "    print('a:', a)\n",
    "    a = yield\n",
    "    print('a:', a)\n",
    "    yield\n",
    "\n",
    "g = my_generator()\n",
    "next(g)\n",
    "g.send(1)\n",
    "g.send(2)"
   ]
  },
  {
   "cell_type": "markdown",
   "metadata": {},
   "source": [
    "You might be wondering why we are calling the `next` function in the beggining. It's due to the order in which the `yield` statement executes its actions:\n",
    "\n",
    "- it first returns the value that it's yielding and **pauses**\n",
    "- it then assigns the value that it's passed with `.send(value)` and the generator continues running until it encounters the next `yield` statement"
   ]
  },
  {
   "cell_type": "markdown",
   "metadata": {},
   "source": [
    "So can you retrieve and send values at the same time ? Of course ! In the following example we will print the stateful variables inside of the generator to better understand what's going on:\n",
    "\n",
    "```python\n",
    "def my_generator():\n",
    "    a = 2\n",
    "    print('1) state ->  a:', a)\n",
    "    b = yield a\n",
    "    \n",
    "    print('2) state ->  a:', a, ', b:', b)\n",
    "    b = yield a * b\n",
    "    \n",
    "    print('3) state ->  a:', a, ', b:', b)\n",
    "    yield a * b\n",
    "    \n",
    "    print('4) state ->  a:', a, ', b:', b)\n",
    "\n",
    "g = my_generator()\n",
    "print('yield:', next(), '\\n')\n",
    "print('yield:', g.send(10), '\\n')\n",
    "print('yield:', g.send(200), '\\n')\n",
    "print('yield:', next(g), '\\n')\n",
    "```\n",
    "\n",
    "Output:\n",
    "\n",
    "```shell\n",
    "1) state ->  a: 2\n",
    "yield: 2 \n",
    "\n",
    "2) state ->  a: 2 , b: 10\n",
    "yield: 20 \n",
    "\n",
    "3) state ->  a: 2 , b: 200\n",
    "yield: 400 \n",
    "\n",
    "4) state ->  a: 2 , b: 1000\n",
    "\n",
    "---------------------------------------------------------------------------\n",
    "StopIteration                             Traceback (most recent call last)\n",
    "<ipython-input-59-96abd9b795ea> in <module>\n",
    "     16 print('yield:', gen.send(10), '\\n')\n",
    "     17 print('yield:', gen.send(100), '\\n')\n",
    "---> 18 print('yield:', gen.send(1000), '\\n')\n",
    "     19 print('yield:', next(gen), '\\n')\n",
    "\n",
    "StopIteration:\n",
    "```"
   ]
  },
  {
   "cell_type": "code",
   "execution_count": 59,
   "metadata": {},
   "outputs": [
    {
     "name": "stdout",
     "output_type": "stream",
     "text": [
      "1) state ->  a: 2\n",
      "yield: 2 \n",
      "\n",
      "2) state ->  a: 2 , b: 10\n",
      "yield: 20 \n",
      "\n",
      "3) state ->  a: 2 , b: 100\n",
      "yield: 200 \n",
      "\n",
      "4) state ->  a: 2 , b: 1000\n"
     ]
    },
    {
     "ename": "StopIteration",
     "evalue": "",
     "output_type": "error",
     "traceback": [
      "\u001b[0;31m---------------------------------------------------------------------------\u001b[0m",
      "\u001b[0;31mStopIteration\u001b[0m                             Traceback (most recent call last)",
      "\u001b[0;32m<ipython-input-59-96abd9b795ea>\u001b[0m in \u001b[0;36m<module>\u001b[0;34m\u001b[0m\n\u001b[1;32m     16\u001b[0m \u001b[0mprint\u001b[0m\u001b[0;34m(\u001b[0m\u001b[0;34m'yield:'\u001b[0m\u001b[0;34m,\u001b[0m \u001b[0mgen\u001b[0m\u001b[0;34m.\u001b[0m\u001b[0msend\u001b[0m\u001b[0;34m(\u001b[0m\u001b[0;36m10\u001b[0m\u001b[0;34m)\u001b[0m\u001b[0;34m,\u001b[0m \u001b[0;34m'\\n'\u001b[0m\u001b[0;34m)\u001b[0m\u001b[0;34m\u001b[0m\u001b[0;34m\u001b[0m\u001b[0m\n\u001b[1;32m     17\u001b[0m \u001b[0mprint\u001b[0m\u001b[0;34m(\u001b[0m\u001b[0;34m'yield:'\u001b[0m\u001b[0;34m,\u001b[0m \u001b[0mgen\u001b[0m\u001b[0;34m.\u001b[0m\u001b[0msend\u001b[0m\u001b[0;34m(\u001b[0m\u001b[0;36m100\u001b[0m\u001b[0;34m)\u001b[0m\u001b[0;34m,\u001b[0m \u001b[0;34m'\\n'\u001b[0m\u001b[0;34m)\u001b[0m\u001b[0;34m\u001b[0m\u001b[0;34m\u001b[0m\u001b[0m\n\u001b[0;32m---> 18\u001b[0;31m \u001b[0mprint\u001b[0m\u001b[0;34m(\u001b[0m\u001b[0;34m'yield:'\u001b[0m\u001b[0;34m,\u001b[0m \u001b[0mgen\u001b[0m\u001b[0;34m.\u001b[0m\u001b[0msend\u001b[0m\u001b[0;34m(\u001b[0m\u001b[0;36m1000\u001b[0m\u001b[0;34m)\u001b[0m\u001b[0;34m,\u001b[0m \u001b[0;34m'\\n'\u001b[0m\u001b[0;34m)\u001b[0m\u001b[0;34m\u001b[0m\u001b[0;34m\u001b[0m\u001b[0m\n\u001b[0m\u001b[1;32m     19\u001b[0m \u001b[0mprint\u001b[0m\u001b[0;34m(\u001b[0m\u001b[0;34m'yield:'\u001b[0m\u001b[0;34m,\u001b[0m \u001b[0mnext\u001b[0m\u001b[0;34m(\u001b[0m\u001b[0mgen\u001b[0m\u001b[0;34m)\u001b[0m\u001b[0;34m,\u001b[0m \u001b[0;34m'\\n'\u001b[0m\u001b[0;34m)\u001b[0m\u001b[0;34m\u001b[0m\u001b[0;34m\u001b[0m\u001b[0m\n",
      "\u001b[0;31mStopIteration\u001b[0m: "
     ]
    }
   ],
   "source": [
    "def my_generator():\n",
    "    a = 2\n",
    "    print('1) state ->  a:', a)\n",
    "    b = yield a\n",
    "    \n",
    "    print('2) state ->  a:', a, ', b:', b)\n",
    "    b = yield a * b\n",
    "    \n",
    "    print('3) state ->  a:', a, ', b:', b)\n",
    "    b = yield a * b\n",
    "    \n",
    "    print('4) state ->  a:', a, ', b:', b)\n",
    "\n",
    "g = my_generator()\n",
    "print('yield:', next(g), '\\n')\n",
    "print('yield:', g.send(10), '\\n')\n",
    "print('yield:', g.send(100), '\\n')\n",
    "print('yield:', g.send(1000), '\\n')\n",
    "print('yield:', next(g), '\\n')"
   ]
  },
  {
   "cell_type": "markdown",
   "metadata": {},
   "source": [
    "Note how the last call will raise a `StopIteration` exception. Remember: The exception is raised when the generator reaches the end of its code and there are no more `yield` statements left to execute. "
   ]
  },
  {
   "cell_type": "markdown",
   "metadata": {},
   "source": [
    "## Generators delay computations until necessary \n",
    "\n",
    "A more eloquent way of putting it would be to say that that generators **map an input value to a computation** as opposed to what classic functions do, which is mapping an input value to an output value. The computation is delayed until the value of that computation is explicitely requested. This paradigm is commonly referred to as **lazy evaluation**. "
   ]
  },
  {
   "cell_type": "markdown",
   "metadata": {},
   "source": [
    "Suppose you want to calculate all prime numbers up to a certain max integer. Normally you would have to calculate them all at once, wait for it to finish, and then proceed with the next thing you want to do with them. \n",
    "\n",
    "With the help of generators, you can retrieve the values as they are being computed. You could say you are *subscribing* to the stream the stream of prime numbers. This is a very powerful idea, since it allows us to do something with the values we already have without having to wait for the entire computation to finish. \n",
    "\n",
    "Let's start with a function that calculates whether a number is prime:"
   ]
  },
  {
   "cell_type": "markdown",
   "metadata": {},
   "source": [
    "```python\n",
    "def is_prime(num):\n",
    "    for i in range(2, int(num**0.5) + 1):\n",
    "        if num % i == 0:\n",
    "            return False\n",
    "    return True\n",
    "```"
   ]
  },
  {
   "cell_type": "markdown",
   "metadata": {},
   "source": [
    "Now let's write up the generator:\n",
    "\n",
    "```python\n",
    "def generate_primes(max_num):\n",
    "    for num in range(2, max_num):\n",
    "        if is_prime(num):\n",
    "            yield num\n",
    "```\n",
    "\n",
    "And iterate over its values:\n",
    "\n",
    "```python\n",
    "for value in generate_primes(50):\n",
    "    print(value)\n",
    "```\n",
    "\n",
    "Output:\n",
    "```shell\n",
    "2\n",
    "3\n",
    "5\n",
    "7\n",
    "11\n",
    "13\n",
    "17\n",
    "19\n",
    "23\n",
    "29\n",
    "31\n",
    "37\n",
    "41\n",
    "43\n",
    "47\n",
    "```"
   ]
  },
  {
   "cell_type": "markdown",
   "metadata": {},
   "source": [
    "Let's try something a bit more fancy, and plot the prime numbers on a graph as they get computed:"
   ]
  },
  {
   "cell_type": "code",
   "execution_count": 69,
   "metadata": {},
   "outputs": [
    {
     "name": "stdout",
     "output_type": "stream",
     "text": [
      "2\n",
      "3\n",
      "5\n",
      "7\n",
      "11\n",
      "13\n",
      "17\n",
      "19\n",
      "23\n",
      "29\n",
      "31\n",
      "37\n",
      "41\n",
      "43\n",
      "47\n"
     ]
    }
   ],
   "source": [
    "def is_prime(num):\n",
    "    for i in range(2, int(num**0.5) + 1):\n",
    "        if num % i == 0:\n",
    "            return False\n",
    "    return True\n",
    "\n",
    "def generate_primes(max_num):\n",
    "    for num in range(2, max_num):\n",
    "        if is_prime(num):\n",
    "            yield num\n",
    "\n",
    "for value in generate_primes(50):\n",
    "    print(value)"
   ]
  },
  {
   "cell_type": "code",
   "execution_count": 123,
   "metadata": {},
   "outputs": [],
   "source": [
    "import math\n",
    "import time\n",
    "\n",
    "import matplotlib.animation as animation\n",
    "import matplotlib.pyplot as plt\n",
    "import numpy as np\n",
    "from matplotlib import style\n",
    "\n",
    "def is_prime(num):\n",
    "    for i in range(2, int(num**0.5) + 1):\n",
    "        if num % i == 0:\n",
    "            return False\n",
    "    return True\n",
    "\n",
    "def generate_primes(max_num):\n",
    "    for num in range(2, max_num):\n",
    "        if is_prime(num):\n",
    "            yield num\n",
    "\n",
    "def polar_to_cartesian(r, theta):\n",
    "    x = r * math.cos(theta)\n",
    "    y = r * math.sin(theta)\n",
    "    return x, y\n",
    "\n",
    "style.use('fivethirtyeight')\n",
    "fig = plt.figure()\n",
    "ax1 = fig.add_subplot(1,1,1)\n",
    "\n",
    "N_MAX = 2500\n",
    "g = generate_primes(N_MAX)\n",
    "xs = []\n",
    "ys = []\n",
    "\n",
    "def animate(i):\n",
    "    try:\n",
    "        value = next(g)\n",
    "    except StopIteration:\n",
    "        return\n",
    "    x, y = polar_to_cartesian(value, value)\n",
    "    xs.append(x)\n",
    "    ys.append(y)\n",
    "    ax1.clear()\n",
    "    ax1.scatter(xs, ys, s=5)\n",
    "    ax1.set_xlim([-N_MAX, N_MAX])\n",
    "    ax1.set_ylim([-N_MAX, N_MAX])\n",
    "    \n",
    "    fig.suptitle('Prime numbers in polar coordinates', fontsize=12)\n",
    "    plt.xticks(fontsize=12)\n",
    "    plt.yticks(fontsize=12)\n",
    "\n",
    "anim = animation.FuncAnimation(fig, animate, interval=5)\n",
    "plt.show()\n"
   ]
  },
  {
   "cell_type": "markdown",
   "metadata": {},
   "source": [
    "// As programmers but also the main users of our own code, we're often inclined to write code that produces immediate, tangible results. "
   ]
  },
  {
   "cell_type": "markdown",
   "metadata": {},
   "source": [
    "## Bonus: generator functionality in Python classes"
   ]
  },
  {
   "cell_type": "markdown",
   "metadata": {},
   "source": [
    "In fact, you can write a generator in the form of a class: \n",
    "\n",
    "```python\n",
    "```\n"
   ]
  },
  {
   "cell_type": "code",
   "execution_count": null,
   "metadata": {},
   "outputs": [],
   "source": [
    "class "
   ]
  },
  {
   "cell_type": "markdown",
   "metadata": {},
   "source": []
  }
 ],
 "metadata": {
  "kernelspec": {
   "display_name": "Python 3",
   "language": "python",
   "name": "python3"
  },
  "language_info": {
   "codemirror_mode": {
    "name": "ipython",
    "version": 3
   },
   "file_extension": ".py",
   "mimetype": "text/x-python",
   "name": "python",
   "nbconvert_exporter": "python",
   "pygments_lexer": "ipython3",
   "version": "3.7.6"
  }
 },
 "nbformat": 4,
 "nbformat_minor": 2
}
