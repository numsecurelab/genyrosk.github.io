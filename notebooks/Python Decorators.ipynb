{
 "cells": [
  {
   "cell_type": "markdown",
   "metadata": {},
   "source": [
    "# Python Decorators "
   ]
  },
  {
   "cell_type": "markdown",
   "metadata": {},
   "source": [
    "### Wrapping a function"
   ]
  },
  {
   "cell_type": "markdown",
   "metadata": {},
   "source": [
    "Imagine we have some API endpoint. We will simulate the behaviour of that endpoint with the `api_endpoint` function, which will run after a random uniformly distributed delay between 1 and 2 seconds. "
   ]
  },
  {
   "cell_type": "code",
   "execution_count": 1,
   "metadata": {},
   "outputs": [],
   "source": [
    "import time \n",
    "\n",
    "def api_endpoint():\n",
    "    time.sleep(1)\n",
    "    return 'API response'\n"
   ]
  },
  {
   "cell_type": "markdown",
   "metadata": {},
   "source": [
    "In our application we will have some kind of function that performs the call and prints the result. "
   ]
  },
  {
   "cell_type": "code",
   "execution_count": 2,
   "metadata": {},
   "outputs": [
    {
     "data": {
      "text/plain": [
       "'API response'"
      ]
     },
     "execution_count": 2,
     "metadata": {},
     "output_type": "execute_result"
    }
   ],
   "source": [
    "def call_api():\n",
    "    result = api_endpoint()\n",
    "    return result\n",
    "    \n",
    "call_api()"
   ]
  },
  {
   "cell_type": "markdown",
   "metadata": {},
   "source": [
    "Now let's imagine that we would like to time the execution of our api call. We can easily do this by using the `time.time` function and then calculating the differece between the moment that the function started and finished running."
   ]
  },
  {
   "cell_type": "code",
   "execution_count": 3,
   "metadata": {},
   "outputs": [
    {
     "name": "stdout",
     "output_type": "stream",
     "text": [
      "seconds: 1.000215768814087\n"
     ]
    },
    {
     "data": {
      "text/plain": [
       "'API response'"
      ]
     },
     "execution_count": 3,
     "metadata": {},
     "output_type": "execute_result"
    }
   ],
   "source": [
    "def call_api_timed():\n",
    "    start = time.time()\n",
    "    result = api_endpoint()\n",
    "    end = time.time()\n",
    "    print('seconds:', end - start)\n",
    "    return result\n",
    "    \n",
    "call_api_timed()"
   ]
  },
  {
   "cell_type": "markdown",
   "metadata": {},
   "source": [
    "Works as expected ! \n",
    "\n",
    "\n",
    "### The Python way\n",
    "\n",
    "In Python we strive to do the minimum that gets the job done. That's the essence of a true Pythonista: no upfront design required, no complicated code necessary. Simply write the most bare bones, quick and dumb program you can that gets the job done and move on. \n",
    "\n",
    "However, there are times when keeping things primitive only makes the overall picture increasingly complicated. This is especially true when our application performs lots of repetitve tasks. This is where the magic of Python lies: Python allows you to extend your code in a simple way, without introducing much overhead. For that purpose it offers a number of coding paradigms, one of which we're going to be using today: **decorators**. \n",
    "\n",
    "In our example we wrote 3 lines of code within our `call_api` function in order to keep track of how long the api takes to respond. Imagine now that we have multiple different functions that call different API endpoints and we would also like to time them. If we keep doing it the same way as we did earlier, a lot of code would start to get repeated. "
   ]
  },
  {
   "cell_type": "code",
   "execution_count": 4,
   "metadata": {},
   "outputs": [],
   "source": [
    "#\n",
    "# We would have to repeat the same lines of code \n",
    "# for all the following functions\n",
    "# ...\n",
    "def api_endpoint_2():\n",
    "    pass\n",
    "    \n",
    "def api_endpoint_3():\n",
    "    pass"
   ]
  },
  {
   "cell_type": "markdown",
   "metadata": {},
   "source": [
    "To solve this issue, let us define a function that automatically does the timing for us. "
   ]
  },
  {
   "cell_type": "code",
   "execution_count": 5,
   "metadata": {
    "scrolled": true
   },
   "outputs": [
    {
     "name": "stdout",
     "output_type": "stream",
     "text": [
      "seconds: 1.1920928955078125e-06\n"
     ]
    },
    {
     "data": {
      "text/plain": [
       "'API response'"
      ]
     },
     "execution_count": 5,
     "metadata": {},
     "output_type": "execute_result"
    }
   ],
   "source": [
    "def time_me(api_result):\n",
    "    start = time.time()\n",
    "    end = time.time()\n",
    "    print('seconds:', end - start)\n",
    "    return api_result\n",
    "\n",
    "time_me(call_api())"
   ]
  },
  {
   "cell_type": "markdown",
   "metadata": {},
   "source": [
    "Awesome ! We can now wrap this timer around any other function and print out the time it took to execute just as well as get the result back. \n",
    "\n",
    "Nevertheless, this introduces another problem: long and convoluted lines of code. If we start to chain functions one after another, our code will become increasingly hard to read. \n",
    "\n",
    "``` python\n",
    "\n",
    "first_function(second_function(third_function(...))) \n",
    "\n",
    "```"
   ]
  },
  {
   "cell_type": "markdown",
   "metadata": {},
   "source": [
    "### Decorator syntax"
   ]
  },
  {
   "cell_type": "markdown",
   "metadata": {},
   "source": [
    "Enter the decorator syntactic sugar. With the Python decorator syntax, we can set a function A to always be executed before another function B by adding an `@` (function A would then be called a decorator) in front of it before function B's definition. "
   ]
  },
  {
   "cell_type": "code",
   "execution_count": 6,
   "metadata": {
    "scrolled": true
   },
   "outputs": [
    {
     "ename": "NameError",
     "evalue": "name 'function_A' is not defined",
     "output_type": "error",
     "traceback": [
      "\u001b[0;31m---------------------------------------------------------------------------\u001b[0m",
      "\u001b[0;31mNameError\u001b[0m                                 Traceback (most recent call last)",
      "\u001b[0;32m<ipython-input-6-30ca6222d8f7>\u001b[0m in \u001b[0;36m<module>\u001b[0;34m\u001b[0m\n\u001b[0;32m----> 1\u001b[0;31m \u001b[0;34m@\u001b[0m\u001b[0mfunction_A\u001b[0m\u001b[0;34m\u001b[0m\u001b[0;34m\u001b[0m\u001b[0m\n\u001b[0m\u001b[1;32m      2\u001b[0m \u001b[0;32mdef\u001b[0m \u001b[0mfunction_B\u001b[0m\u001b[0;34m(\u001b[0m\u001b[0;34m)\u001b[0m\u001b[0;34m:\u001b[0m\u001b[0;34m\u001b[0m\u001b[0;34m\u001b[0m\u001b[0m\n\u001b[1;32m      3\u001b[0m     \u001b[0;32mpass\u001b[0m\u001b[0;34m\u001b[0m\u001b[0;34m\u001b[0m\u001b[0m\n",
      "\u001b[0;31mNameError\u001b[0m: name 'function_A' is not defined"
     ]
    }
   ],
   "source": [
    "@function_A\n",
    "def function_B():\n",
    "    pass "
   ]
  },
  {
   "cell_type": "markdown",
   "metadata": {},
   "source": [
    "Every time we call `function_B`, `function_A` is executed beforehand. "
   ]
  },
  {
   "cell_type": "markdown",
   "metadata": {},
   "source": [
    "A decorator function is a special type of function that takes the function that it's decorating as an the input and returns a wrapper function that actually performs the operation. We would thus have to rewrite our `time_me` function like so:"
   ]
  },
  {
   "cell_type": "code",
   "execution_count": null,
   "metadata": {},
   "outputs": [],
   "source": [
    "def time_me(func):\n",
    "    def wrapper(*args, **kwargs):\n",
    "        start = time.time()\n",
    "        result = func(*args, **kwargs)\n",
    "        end = time.time()\n",
    "        print('seconds:', end - start)\n",
    "        return result\n",
    "    return wrapper\n",
    "\n",
    "@time_me\n",
    "def call_api():\n",
    "    res = api_endpoint()\n",
    "    return res"
   ]
  },
  {
   "cell_type": "code",
   "execution_count": null,
   "metadata": {},
   "outputs": [],
   "source": [
    "call_api()"
   ]
  },
  {
   "cell_type": "markdown",
   "metadata": {},
   "source": [
    "\"Can we pass arguments to the decorator itsefl ?\" you might ask. The answer is yes ! But we would have to do some additional modifications to allow our decorator to accept arguments. Let's say you would want this function to sometimes print seconds, while other times you would rather have it print milliseconds. "
   ]
  },
  {
   "cell_type": "markdown",
   "metadata": {},
   "source": [
    "Don't worry too much about the `@wraps` decorator: it's a simple Python function that ..."
   ]
  },
  {
   "cell_type": "code",
   "execution_count": 7,
   "metadata": {},
   "outputs": [],
   "source": [
    "from functools import wraps\n",
    "\n",
    "def time_me(milliseconds=False):\n",
    "    def decorator(func):\n",
    "        @wraps(func)\n",
    "        def wrapper(*args, **kwargs):\n",
    "            start = time.time()\n",
    "            result = func(*args, **kwargs)\n",
    "            end = time.time()\n",
    "            if milliseconds:\n",
    "                print('milliseconds:', (end - start)*1000)\n",
    "            else:\n",
    "                print('seconds:', end - start)\n",
    "            return result\n",
    "        return wrapper\n",
    "    return decorator\n",
    "\n",
    "@time_me(milliseconds=True)\n",
    "def call_api():\n",
    "    res = api_endpoint()\n",
    "    return res"
   ]
  },
  {
   "cell_type": "code",
   "execution_count": 8,
   "metadata": {},
   "outputs": [
    {
     "name": "stdout",
     "output_type": "stream",
     "text": [
      "milliseconds: 1004.0688514709473\n"
     ]
    },
    {
     "data": {
      "text/plain": [
       "'API response'"
      ]
     },
     "execution_count": 8,
     "metadata": {},
     "output_type": "execute_result"
    }
   ],
   "source": [
    "call_api()"
   ]
  },
  {
   "cell_type": "markdown",
   "metadata": {},
   "source": [
    "Success ! "
   ]
  },
  {
   "cell_type": "markdown",
   "metadata": {},
   "source": [
    "## Class implementation"
   ]
  },
  {
   "cell_type": "markdown",
   "metadata": {},
   "source": [
    "Python treats everything as an object. **Everything**. That includes variables, functions, classes, lists, etc. \n",
    "\n",
    "Python includes special class syntax that allows a decorator to be expressed as a class. \n"
   ]
  },
  {
   "cell_type": "code",
   "execution_count": 55,
   "metadata": {},
   "outputs": [],
   "source": [
    "class TimeMe:\n",
    "    \n",
    "    def __init__(self, milliseconds=False):\n",
    "        print('__init__')\n",
    "        self.milliseconds = milliseconds\n",
    "        \n",
    "    def __call__(self, func):\n",
    "        print('__call__ ')\n",
    "        def decorator(*args, **kwargs):\n",
    "            # 1. start timer\n",
    "            start = time.time()\n",
    "\n",
    "            # 2. execute wrapped function\n",
    "            result = func(*args, **kwargs)\n",
    "\n",
    "            # 3. end timer\n",
    "            end = time.time()\n",
    "            \n",
    "            # 4. print result\n",
    "            if self.milliseconds:\n",
    "                print('milliseconds:', (end - start)*1000)\n",
    "            else:\n",
    "                print('seconds:', end - start)\n",
    "            return result\n",
    "        return decorator     "
   ]
  },
  {
   "cell_type": "code",
   "execution_count": 56,
   "metadata": {},
   "outputs": [
    {
     "name": "stdout",
     "output_type": "stream",
     "text": [
      "__init__\n",
      "__call__ \n",
      "__init__\n",
      "__call__ \n"
     ]
    }
   ],
   "source": [
    "timer = TimeMe(milliseconds=True)\n",
    "\n",
    "@timer\n",
    "def some_func(x):\n",
    "    return 2*x\n",
    "\n",
    "# \n",
    "# or \n",
    "# \n",
    "\n",
    "@TimeMe(milliseconds=True)\n",
    "def some_func(x):\n",
    "    return 2*x"
   ]
  },
  {
   "cell_type": "code",
   "execution_count": 57,
   "metadata": {},
   "outputs": [
    {
     "name": "stdout",
     "output_type": "stream",
     "text": [
      "milliseconds: 0.0019073486328125\n"
     ]
    },
    {
     "data": {
      "text/plain": [
       "4"
      ]
     },
     "execution_count": 57,
     "metadata": {},
     "output_type": "execute_result"
    }
   ],
   "source": [
    "some_func(2)"
   ]
  },
  {
   "cell_type": "code",
   "execution_count": null,
   "metadata": {},
   "outputs": [],
   "source": []
  }
 ],
 "metadata": {
  "kernelspec": {
   "display_name": "Python 3",
   "language": "python",
   "name": "python3"
  },
  "language_info": {
   "codemirror_mode": {
    "name": "ipython",
    "version": 3
   },
   "file_extension": ".py",
   "mimetype": "text/x-python",
   "name": "python",
   "nbconvert_exporter": "python",
   "pygments_lexer": "ipython3",
   "version": "3.7.2"
  }
 },
 "nbformat": 4,
 "nbformat_minor": 2
}
